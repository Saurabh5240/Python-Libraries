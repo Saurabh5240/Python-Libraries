{
  "nbformat": 4,
  "nbformat_minor": 0,
  "metadata": {
    "colab": {
      "provenance": [],
      "authorship_tag": "ABX9TyMRPVJxomCP4z1jzP/l8nV9",
      "include_colab_link": true
    },
    "kernelspec": {
      "name": "python3",
      "display_name": "Python 3"
    },
    "language_info": {
      "name": "python"
    }
  },
  "cells": [
    {
      "cell_type": "markdown",
      "metadata": {
        "id": "view-in-github",
        "colab_type": "text"
      },
      "source": [
        "<a href=\"https://colab.research.google.com/github/Saurabh5240/Python-Libraries/blob/main/Random_Function_and_Probability.ipynb\" target=\"_parent\"><img src=\"https://colab.research.google.com/assets/colab-badge.svg\" alt=\"Open In Colab\"/></a>"
      ]
    },
    {
      "cell_type": "markdown",
      "source": [
        "- Here i have discussed random functions in python and calculating probability of random events using monte carlo method performing the experiment N number of times."
      ],
      "metadata": {
        "id": "D0EOvoUR_FJT"
      }
    },
    {
      "cell_type": "code",
      "source": [
        "# Simple a coin toss using random function\n",
        "import numpy as np\n",
        "#0-heads 1-tails\n",
        "result = np.random.randint(0,2)\n",
        "if result== 0:\n",
        "  print(\"Heads\")\n",
        "else:\n",
        "  print(\"Tails\")\n"
      ],
      "metadata": {
        "colab": {
          "base_uri": "https://localhost:8080/"
        },
        "id": "Z5X-wzCs_xgM",
        "outputId": "aa51d612-a9e4-43a7-af49-bef26a4824fd"
      },
      "execution_count": 6,
      "outputs": [
        {
          "output_type": "stream",
          "name": "stdout",
          "text": [
            "Tails\n"
          ]
        }
      ]
    },
    {
      "cell_type": "markdown",
      "source": [
        "- So the basic mechanism we follow is perform a experiment N number of times and we declare a variable 's' for a measure of the number of times the success event occured and to find probability we do s/N."
      ],
      "metadata": {
        "id": "NB8rKzqYCVu_"
      }
    },
    {
      "cell_type": "code",
      "source": [
        "#A simple guess game using random function\n",
        "import numpy as np\n",
        "randNum = np.random.randint(0,101)\n",
        "guess = 0\n",
        "attempt = 0\n",
        "while guess!=randNum:\n",
        "  attempt+=1\n",
        "  guess = int(input(\"Guess a number between 1 and 100:\"))\n",
        "  if guess> randNum:\n",
        "    print(\"GO Lower!\")\n",
        "  if guess< randNum:\n",
        "    print(\"Go Higher!\")\n",
        "  if guess == randNum:\n",
        "    print(\"Hurray !! You guessed correct number : \",randNum , \"in \",attempt, \" attempts\")\n"
      ],
      "metadata": {
        "colab": {
          "base_uri": "https://localhost:8080/"
        },
        "id": "xH25VQTVHifi",
        "outputId": "58d60f14-dd65-4fed-d8bb-8fd3b373b205"
      },
      "execution_count": 7,
      "outputs": [
        {
          "output_type": "stream",
          "name": "stdout",
          "text": [
            "Guess a number between 1 and 100:45\n",
            "GO Lower!\n",
            "Guess a number between 1 and 100:40\n",
            "GO Lower!\n",
            "Guess a number between 1 and 100:35\n",
            "Hurray !! You guessed correct number :  35 in  3  attempts\n"
          ]
        }
      ]
    },
    {
      "cell_type": "code",
      "source": [
        "                                                                 #For coin toss performed 100K times we can find the probability and it should be approx 50%\n",
        "import numpy as np\n",
        "                                                                 #0-heads 1-tails\n",
        "N=100000\n",
        "def Toss():                                                      #A toss function is defined to perform a toss event\n",
        "  return (np.random.randint(0,2))\n",
        "s=0\n",
        "m=0\n",
        "for i in range(N):\n",
        "  c = Toss()\n",
        "  if c==1:                                                       #Here if 1 or the required tail occurs the succes variable is incremented by one\n",
        "    s+=1\n",
        "  else:\n",
        "    m+=1\n",
        "\n",
        "print(\"Probability of getting Tails is : %.2f\"%(s/N*100),\"%\")\n",
        "print(\"Probability of getting Heads is : %.2f\"%(m/N*100),\"%\")\n",
        "\n"
      ],
      "metadata": {
        "colab": {
          "base_uri": "https://localhost:8080/"
        },
        "id": "G7DrCB2qnWFM",
        "outputId": "007289cf-5108-4171-b135-6637e81c19ad"
      },
      "execution_count": 10,
      "outputs": [
        {
          "output_type": "stream",
          "name": "stdout",
          "text": [
            "Probability of getting Tails is : 50.12 %\n",
            "Probability of getting Heads is : 49.88 %\n"
          ]
        }
      ]
    },
    {
      "cell_type": "markdown",
      "source": [
        "- Here are some more examples which work on same model\n",
        "\n",
        "\n",
        "- This works as two dices are thrown one green and one black and if the black dice have more value the player gets 2 more dollar and every time he plays he pays 1 dollar so this algorith decides whether he should play the game or not."
      ],
      "metadata": {
        "id": "aWWPzDuODjV-"
      }
    },
    {
      "cell_type": "code",
      "source": [
        "\n",
        "import numpy as np\n",
        "N = 100\n",
        "startMoney=10\n",
        "money = startMoney\n",
        "for i in range(N):\n",
        "  money-=1\n",
        "  black = np.random.randint(1,6)\n",
        "  green = np.random.randint(1,6)\n",
        "  if black>green:\n",
        "    money+=2\n",
        "\n",
        "if money>startMoney:\n",
        "  print(\"Play!!!!!!!\")\n",
        "else:\n",
        "  print(\"Dont play!!!!!\")\n"
      ],
      "metadata": {
        "colab": {
          "base_uri": "https://localhost:8080/"
        },
        "id": "UrGTKGKJSW2G",
        "outputId": "e3c487bd-d117-4f26-a5bb-67efee6e139e"
      },
      "execution_count": 11,
      "outputs": [
        {
          "output_type": "stream",
          "name": "stdout",
          "text": [
            "Dont play!!!!!\n"
          ]
        }
      ]
    },
    {
      "cell_type": "markdown",
      "source": [
        "- This below example is a classic probability problem where there is 12 balls in a bag and 4 balls are drawn at random and we have to find the probability of getting 2 or more black balls."
      ],
      "metadata": {
        "id": "cbzkBNgcGc0F"
      }
    },
    {
      "cell_type": "code",
      "source": [
        "import random\n",
        "hat = []\n",
        "\n",
        "for color in 'black','red','blue':\n",
        "  for i in range(4):\n",
        "    hat.append(color)\n",
        "random.shuffle(hat)\n",
        "print(hat)\n",
        "N=10000\n",
        "\n",
        "\n",
        "n=4\n",
        "\n",
        "def draw_balls(n):\n",
        "\n",
        "\n",
        "  drawnballs=[]\n",
        "  for i in range(n):\n",
        "    index = np.random.randint(0,len(hat)-1)\n",
        "    drawnballs.append(hat[index])\n",
        "  return drawnballs\n",
        "\n",
        "\n",
        "s=0\n",
        "for i in range(N):\n",
        "  c = draw_balls(2)\n",
        "  count = 0\n",
        "  for item in c:\n",
        "    if item == 'black':\n",
        "      count+=1\n",
        "  if count>=2:\n",
        "    s +=1\n",
        "  count=0\n",
        "print(\"probability of atleast 2 black ball is: %.2f\"%(s/N*100) ,\"%\")\n",
        "\n",
        "\n",
        "\n"
      ],
      "metadata": {
        "colab": {
          "base_uri": "https://localhost:8080/"
        },
        "id": "L9-78TfZZVay",
        "outputId": "48a3b06f-52d6-45ea-987c-1dfe6ee85890"
      },
      "execution_count": 12,
      "outputs": [
        {
          "output_type": "stream",
          "name": "stdout",
          "text": [
            "['red', 'blue', 'blue', 'blue', 'red', 'black', 'black', 'black', 'black', 'red', 'blue', 'red']\n",
            "probability of atleast 2 black ball is: 13.26 %\n"
          ]
        }
      ]
    }
  ]
}