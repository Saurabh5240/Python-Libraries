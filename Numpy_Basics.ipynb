{
  "nbformat": 4,
  "nbformat_minor": 0,
  "metadata": {
    "colab": {
      "provenance": [],
      "authorship_tag": "ABX9TyNObwYGG6NFg1nyzw8i3ZEr",
      "include_colab_link": true
    },
    "kernelspec": {
      "name": "python3",
      "display_name": "Python 3"
    },
    "language_info": {
      "name": "python"
    }
  },
  "cells": [
    {
      "cell_type": "markdown",
      "metadata": {
        "id": "view-in-github",
        "colab_type": "text"
      },
      "source": [
        "<a href=\"https://colab.research.google.com/github/Saurabh5240/Python-Libraries/blob/main/Numpy_Basics.ipynb\" target=\"_parent\"><img src=\"https://colab.research.google.com/assets/colab-badge.svg\" alt=\"Open In Colab\"/></a>"
      ]
    },
    {
      "cell_type": "markdown",
      "source": [
        "#Numpy Tutorial\n"
      ],
      "metadata": {
        "id": "hga4rglPxaBd"
      }
    },
    {
      "cell_type": "code",
      "source": [
        "   import numpy as np"
      ],
      "metadata": {
        "id": "TyE7ZLbhxfJ8"
      },
      "execution_count": null,
      "outputs": []
    },
    {
      "cell_type": "markdown",
      "source": [
        "List vs Numpy"
      ],
      "metadata": {
        "id": "Gl9jv32H2nKv"
      }
    },
    {
      "cell_type": "code",
      "source": [
        "from time import process_time\n"
      ],
      "metadata": {
        "id": "zQHMXwlH2pRC"
      },
      "execution_count": null,
      "outputs": []
    },
    {
      "cell_type": "code",
      "source": [
        "list = [i for i in range(10000)]\n",
        "\n",
        "start_time = process_time()\n",
        "\n",
        "list = [i+5 for i in list]\n",
        "\n",
        "end_time = process_time()\n",
        "\n",
        "print(end_time - start_time)\n"
      ],
      "metadata": {
        "colab": {
          "base_uri": "https://localhost:8080/"
        },
        "id": "pRss3YIM3ukK",
        "outputId": "33a8752e-f06d-429a-ad1f-eaaf38ec22a2"
      },
      "execution_count": null,
      "outputs": [
        {
          "output_type": "stream",
          "name": "stdout",
          "text": [
            "0.0014779960000002035\n"
          ]
        }
      ]
    },
    {
      "cell_type": "code",
      "source": [
        "np_array = np.array([i for i in range(10000)])\n",
        "start_time = process_time()\n",
        "np_array += 5\n",
        "end_time = process_time()\n",
        "print(end_time - start_time)\n"
      ],
      "metadata": {
        "colab": {
          "base_uri": "https://localhost:8080/"
        },
        "id": "1s1eUwgV3zGl",
        "outputId": "0b6e5b0e-dfce-4816-c5a0-b7b457fe2f8c"
      },
      "execution_count": null,
      "outputs": [
        {
          "output_type": "stream",
          "name": "stdout",
          "text": [
            "0.0001227930000009536\n"
          ]
        }
      ]
    },
    {
      "cell_type": "code",
      "source": [
        "np_array = np.array([1,2,3,4,5])\n",
        "\n",
        "print(np_array)\n",
        "type(np_array)"
      ],
      "metadata": {
        "colab": {
          "base_uri": "https://localhost:8080/"
        },
        "id": "65IwxB3E8P_w",
        "outputId": "d073a082-fc18-4cc4-801f-8ccff3190f1d"
      },
      "execution_count": null,
      "outputs": [
        {
          "output_type": "stream",
          "name": "stdout",
          "text": [
            "[1 2 3 4 5]\n"
          ]
        },
        {
          "output_type": "execute_result",
          "data": {
            "text/plain": [
              "numpy.ndarray"
            ]
          },
          "metadata": {},
          "execution_count": 16
        }
      ]
    },
    {
      "cell_type": "code",
      "source": [
        "a = np.array([1,2,3,4,5])\n",
        "print(a)\n",
        "a.shape\n"
      ],
      "metadata": {
        "colab": {
          "base_uri": "https://localhost:8080/"
        },
        "id": "WQqJ17Gq8bhf",
        "outputId": "50f94ac1-5de7-440e-e6ad-1c12b5f1a00e"
      },
      "execution_count": null,
      "outputs": [
        {
          "output_type": "stream",
          "name": "stdout",
          "text": [
            "[1 2 3 4 5]\n"
          ]
        },
        {
          "output_type": "execute_result",
          "data": {
            "text/plain": [
              "(5,)"
            ]
          },
          "metadata": {},
          "execution_count": 17
        }
      ]
    },
    {
      "cell_type": "code",
      "source": [
        "b = np.array([(1,2,3,4),(5,6,7,8),(9,10,11,12)])\n",
        "print(b)\n"
      ],
      "metadata": {
        "colab": {
          "base_uri": "https://localhost:8080/"
        },
        "id": "oCySqghE82Uk",
        "outputId": "12dd991d-4453-4974-fd16-775cba97375b"
      },
      "execution_count": null,
      "outputs": [
        {
          "output_type": "stream",
          "name": "stdout",
          "text": [
            "[[ 1  2  3  4]\n",
            " [ 5  6  7  8]\n",
            " [ 9 10 11 12]]\n"
          ]
        }
      ]
    },
    {
      "cell_type": "code",
      "source": [
        "b.shape"
      ],
      "metadata": {
        "colab": {
          "base_uri": "https://localhost:8080/"
        },
        "id": "sv460_Q69TXw",
        "outputId": "88681e4d-0c9f-47f0-beb5-158bfd63b955"
      },
      "execution_count": null,
      "outputs": [
        {
          "output_type": "execute_result",
          "data": {
            "text/plain": [
              "(3, 4)"
            ]
          },
          "metadata": {},
          "execution_count": 20
        }
      ]
    },
    {
      "cell_type": "code",
      "source": [
        "c = np.array([(1,2,3,4),(5,6,7,8)],dtype=float)\n",
        "print(c)\n",
        "#if not mentioned data dtype default will be integer\n",
        "print(c[0][0])\n"
      ],
      "metadata": {
        "colab": {
          "base_uri": "https://localhost:8080/"
        },
        "id": "X6onTc359XK0",
        "outputId": "dd6e9fce-8dca-4f09-8b55-aacde25443fa"
      },
      "execution_count": null,
      "outputs": [
        {
          "output_type": "stream",
          "name": "stdout",
          "text": [
            "[[1. 2. 3. 4.]\n",
            " [5. 6. 7. 8.]]\n",
            "1.0\n"
          ]
        }
      ]
    },
    {
      "cell_type": "markdown",
      "source": [
        "Initial Placeholders"
      ],
      "metadata": {
        "id": "hD0TlC27_Xij"
      }
    },
    {
      "cell_type": "code",
      "source": [
        "#creating array of all zeros\n",
        "x = np.zeros((2,3))\n",
        "print(x)"
      ],
      "metadata": {
        "colab": {
          "base_uri": "https://localhost:8080/"
        },
        "id": "01nwYsEZ_a1q",
        "outputId": "7ca83ca2-02a5-4e34-b9f6-9249ae6b36a6"
      },
      "execution_count": null,
      "outputs": [
        {
          "output_type": "stream",
          "name": "stdout",
          "text": [
            "[[0. 0. 0.]\n",
            " [0. 0. 0.]]\n"
          ]
        }
      ]
    },
    {
      "cell_type": "code",
      "source": [
        "#creating array of all ones\n",
        "y = np.ones((3,3))\n",
        "print(y)"
      ],
      "metadata": {
        "colab": {
          "base_uri": "https://localhost:8080/"
        },
        "id": "uD7fRBPr_jeQ",
        "outputId": "a7809899-4bc0-484c-9e5e-4f2db207c321"
      },
      "execution_count": null,
      "outputs": [
        {
          "output_type": "stream",
          "name": "stdout",
          "text": [
            "[[1. 1. 1.]\n",
            " [1. 1. 1.]\n",
            " [1. 1. 1.]]\n"
          ]
        }
      ]
    },
    {
      "cell_type": "code",
      "source": [
        "#creating array of all particular values\n",
        "z = np.full((3,3),69)\n",
        "print(z)"
      ],
      "metadata": {
        "colab": {
          "base_uri": "https://localhost:8080/"
        },
        "id": "1jjsLj76AGbK",
        "outputId": "a9c22fef-1210-4eac-926a-bff4a01ad58b"
      },
      "execution_count": null,
      "outputs": [
        {
          "output_type": "stream",
          "name": "stdout",
          "text": [
            "[[69 69 69]\n",
            " [69 69 69]\n",
            " [69 69 69]]\n"
          ]
        }
      ]
    },
    {
      "cell_type": "code",
      "source": [
        "#creating an identity matrix\n",
        "i = np.eye(4)\n",
        "print(i)"
      ],
      "metadata": {
        "colab": {
          "base_uri": "https://localhost:8080/"
        },
        "id": "krJ75n8JAPp7",
        "outputId": "8ccdf30e-b832-44ff-850b-90de97aa68f9"
      },
      "execution_count": null,
      "outputs": [
        {
          "output_type": "stream",
          "name": "stdout",
          "text": [
            "[[1. 0. 0. 0.]\n",
            " [0. 1. 0. 0.]\n",
            " [0. 0. 1. 0.]\n",
            " [0. 0. 0. 1.]]\n"
          ]
        }
      ]
    },
    {
      "cell_type": "code",
      "source": [
        "#creating a array with random values\n",
        "array1 = np.random.random((3,3))  #gives values between 0 and 1\n",
        "print(array1)"
      ],
      "metadata": {
        "colab": {
          "base_uri": "https://localhost:8080/"
        },
        "id": "PY_73TFeA1JS",
        "outputId": "bee5a965-7928-4fa6-b0f1-19c8bf21aee8"
      },
      "execution_count": null,
      "outputs": [
        {
          "output_type": "stream",
          "name": "stdout",
          "text": [
            "[[0.48620055 0.15108685 0.84401229]\n",
            " [0.56671803 0.17140306 0.6254803 ]\n",
            " [0.95927685 0.2413049  0.06464676]]\n"
          ]
        }
      ]
    },
    {
      "cell_type": "code",
      "source": [
        "#creating a random int array within a range\n",
        "array2 = np.random.randint(1,100,(3,3))\n",
        "print(array2)"
      ],
      "metadata": {
        "colab": {
          "base_uri": "https://localhost:8080/"
        },
        "id": "lONgTITGCZaC",
        "outputId": "d2b7a3ae-c62a-4ec3-a972-8c676637d7ed"
      },
      "execution_count": null,
      "outputs": [
        {
          "output_type": "stream",
          "name": "stdout",
          "text": [
            "[[ 9 23 25]\n",
            " [95 57  5]\n",
            " [53 40 21]]\n"
          ]
        }
      ]
    },
    {
      "cell_type": "code",
      "source": [
        "#create a array of evenly spaced values and steps to be taken\n",
        "e = np.linspace(10,30,6) #here the no of values we want is mentioned\n",
        "f= np.arange(10,30,6)  #this gives the space to be jumped\n",
        "print(e)\n",
        "print(f)"
      ],
      "metadata": {
        "colab": {
          "base_uri": "https://localhost:8080/"
        },
        "id": "zQB2f7HKCo3V",
        "outputId": "1d53562a-90db-4562-87b3-e7da62c3eb15"
      },
      "execution_count": null,
      "outputs": [
        {
          "output_type": "stream",
          "name": "stdout",
          "text": [
            "[10. 14. 18. 22. 26. 30.]\n",
            "[10 16 22 28]\n"
          ]
        }
      ]
    },
    {
      "cell_type": "code",
      "source": [
        "#to covert list into array\n",
        "list1 = [1,2,3,4,5]\n",
        "num = 10\n",
        "array1 = np.asarray(num)\n",
        "num_array = np.asarray(list1)\n",
        "print(num_array)\n",
        "print(array1)\n",
        "type(list1)"
      ],
      "metadata": {
        "colab": {
          "base_uri": "https://localhost:8080/"
        },
        "id": "vbkZm69eEVeD",
        "outputId": "9b64db5a-d239-424f-fa99-183173a69620"
      },
      "execution_count": null,
      "outputs": [
        {
          "output_type": "stream",
          "name": "stdout",
          "text": [
            "[1 2 3 4 5]\n",
            "10\n"
          ]
        },
        {
          "output_type": "execute_result",
          "data": {
            "text/plain": [
              "list"
            ]
          },
          "metadata": {},
          "execution_count": 34
        }
      ]
    },
    {
      "cell_type": "markdown",
      "source": [
        "Analysis of numpy array\n"
      ],
      "metadata": {
        "id": "nQuCtpqiTOTs"
      }
    },
    {
      "cell_type": "code",
      "source": [
        "c = np.random.randint(1,100,(4,4))\n",
        "print(c)"
      ],
      "metadata": {
        "colab": {
          "base_uri": "https://localhost:8080/"
        },
        "id": "sXpqv7WGTUsc",
        "outputId": "f989cbca-7bc0-4660-c6e8-cac2c11b84be"
      },
      "execution_count": null,
      "outputs": [
        {
          "output_type": "stream",
          "name": "stdout",
          "text": [
            "[[ 1 98 34 74]\n",
            " [16 15 61 45]\n",
            " [89 98 23 75]\n",
            " [50 85 26 75]]\n"
          ]
        }
      ]
    },
    {
      "cell_type": "code",
      "source": [
        "#To get dimensions , no of dimensions , size or number of elements,data type\n",
        "print(c.shape)\n",
        "print(c.ndim)\n",
        "print(c.size)\n",
        "print(c.dtype)\n"
      ],
      "metadata": {
        "colab": {
          "base_uri": "https://localhost:8080/"
        },
        "id": "hjqnhki-Ta5R",
        "outputId": "08d909f2-b186-45f9-d547-66b0d8b5c510"
      },
      "execution_count": null,
      "outputs": [
        {
          "output_type": "stream",
          "name": "stdout",
          "text": [
            "(4, 4)\n",
            "2\n",
            "16\n",
            "int64\n"
          ]
        }
      ]
    },
    {
      "cell_type": "code",
      "source": [
        "a = np.random.randint(1,10,(4,4))\n",
        "b = np.random.randint(1,10,(4,4))\n",
        "print(a)\n",
        "print(b)\n"
      ],
      "metadata": {
        "colab": {
          "base_uri": "https://localhost:8080/"
        },
        "id": "hAF8xLduTsqu",
        "outputId": "82edd7ac-b8e6-44bf-d7d9-49fc9bdd9a8a"
      },
      "execution_count": null,
      "outputs": [
        {
          "output_type": "stream",
          "name": "stdout",
          "text": [
            "[[8 6 1 5]\n",
            " [9 2 5 5]\n",
            " [9 7 3 3]\n",
            " [7 5 2 6]]\n",
            "[[1 5 1 5]\n",
            " [1 2 8 5]\n",
            " [6 7 3 9]\n",
            " [8 7 1 7]]\n"
          ]
        }
      ]
    },
    {
      "cell_type": "code",
      "source": [
        "#For elemet wise operations\n",
        "print(a+b)\n",
        "print(a-b)\n",
        "print(a*b)\n",
        "print(a/b)\n",
        "\n",
        "#can also be done by\n",
        "print(np.add(a,b))   #same np.subtract()  np.multiply() np.divide()"
      ],
      "metadata": {
        "colab": {
          "base_uri": "https://localhost:8080/"
        },
        "id": "_IJo7Wl9V6pH",
        "outputId": "dc2e9f46-6c7e-4313-8d41-e6ebf7c21862"
      },
      "execution_count": null,
      "outputs": [
        {
          "output_type": "stream",
          "name": "stdout",
          "text": [
            "[[ 9 11  2 10]\n",
            " [10  4 13 10]\n",
            " [15 14  6 12]\n",
            " [15 12  3 13]]\n",
            "[[ 7  1  0  0]\n",
            " [ 8  0 -3  0]\n",
            " [ 3  0  0 -6]\n",
            " [-1 -2  1 -1]]\n",
            "[[ 8 30  1 25]\n",
            " [ 9  4 40 25]\n",
            " [54 49  9 27]\n",
            " [56 35  2 42]]\n",
            "[[8.         1.2        1.         1.        ]\n",
            " [9.         1.         0.625      1.        ]\n",
            " [1.5        1.         1.         0.33333333]\n",
            " [0.875      0.71428571 2.         0.85714286]]\n",
            "[[ 9 11  2 10]\n",
            " [10  4 13 10]\n",
            " [15 14  6 12]\n",
            " [15 12  3 13]]\n"
          ]
        }
      ]
    },
    {
      "cell_type": "code",
      "source": [
        "#For matrix like operations\n",
        "m1 = np.matrix(a)\n",
        "m2 = np.matrix(b)\n",
        "print(m1*m2)\n",
        "type(m1)"
      ],
      "metadata": {
        "colab": {
          "base_uri": "https://localhost:8080/"
        },
        "id": "KAN1ePRPWWk_",
        "outputId": "41d224fb-701d-4e19-88c6-139aa0f6b450"
      },
      "execution_count": null,
      "outputs": [
        {
          "output_type": "stream",
          "name": "stdout",
          "text": [
            "[[ 60  94  64 114]\n",
            " [ 81 119  45 135]\n",
            " [ 58 101  77 128]\n",
            " [ 72 101  59 120]]\n"
          ]
        },
        {
          "output_type": "execute_result",
          "data": {
            "text/plain": [
              "numpy.matrix"
            ]
          },
          "metadata": {},
          "execution_count": 42
        }
      ]
    },
    {
      "cell_type": "code",
      "source": [
        "#For direct matrix multiplication\n",
        "print(a@b)    #can also use np.dot(a,b)  for matrix like multiplication"
      ],
      "metadata": {
        "colab": {
          "base_uri": "https://localhost:8080/"
        },
        "id": "QYDmBDBRYC2m",
        "outputId": "1ea5016c-7273-4c78-d877-854ccda7fb9a"
      },
      "execution_count": null,
      "outputs": [
        {
          "output_type": "stream",
          "name": "stdout",
          "text": [
            "[[ 60  94  64 114]\n",
            " [ 81 119  45 135]\n",
            " [ 58 101  77 128]\n",
            " [ 72 101  59 120]]\n"
          ]
        }
      ]
    },
    {
      "cell_type": "code",
      "source": [
        "list1 = [1,2,3,4]\n",
        "list2 = [5,6,7,8]\n",
        "print(list1+list2)  #list is concated or joined\n"
      ],
      "metadata": {
        "colab": {
          "base_uri": "https://localhost:8080/"
        },
        "id": "a2sigbaFYKB-",
        "outputId": "31ddad5a-cd7c-4642-8f53-cdde717d0e80"
      },
      "execution_count": null,
      "outputs": [
        {
          "output_type": "stream",
          "name": "stdout",
          "text": [
            "[1, 2, 3, 4, 5, 6, 7, 8]\n"
          ]
        }
      ]
    },
    {
      "cell_type": "markdown",
      "source": [
        "Array manipulation"
      ],
      "metadata": {
        "id": "y63HXA_WbZQu"
      }
    },
    {
      "cell_type": "code",
      "source": [
        "a = np.random.randint(1,10,(2,3))\n",
        "print(a, \"  \",a.shape)"
      ],
      "metadata": {
        "colab": {
          "base_uri": "https://localhost:8080/"
        },
        "id": "L0Mt__qebbHj",
        "outputId": "2ebcbd75-c92b-4075-b995-566d5aa4182e"
      },
      "execution_count": null,
      "outputs": [
        {
          "output_type": "stream",
          "name": "stdout",
          "text": [
            "[[7 5 1]\n",
            " [6 6 6]]    (2, 3)\n"
          ]
        }
      ]
    },
    {
      "cell_type": "code",
      "source": [
        "#to find transpose -2 methods\n",
        "trans1 = np.transpose(a)\n",
        "trans2 = a.T\n",
        "print(trans1)\n",
        "print(trans2)\n",
        "print(trans1.shape,\"  \",trans2.shape)"
      ],
      "metadata": {
        "colab": {
          "base_uri": "https://localhost:8080/"
        },
        "id": "-bLVge23bhWi",
        "outputId": "bc74a041-e87e-4b65-8b01-469565935913"
      },
      "execution_count": null,
      "outputs": [
        {
          "output_type": "stream",
          "name": "stdout",
          "text": [
            "[[7 6]\n",
            " [5 6]\n",
            " [1 6]]\n",
            "[[7 6]\n",
            " [5 6]\n",
            " [1 6]]\n",
            "(3, 2)    (3, 2)\n"
          ]
        }
      ]
    },
    {
      "cell_type": "code",
      "source": [
        "#Reshaping a array\n",
        "\n",
        "a = np.random.randint(1,50,(2,4))\n",
        "print(a)\n",
        "print(a.shape)"
      ],
      "metadata": {
        "colab": {
          "base_uri": "https://localhost:8080/"
        },
        "id": "PT6hWNH2cXNi",
        "outputId": "255b03bb-d1f0-4b4e-b299-14de1f2934aa"
      },
      "execution_count": null,
      "outputs": [
        {
          "output_type": "stream",
          "name": "stdout",
          "text": [
            "[[ 4 42 12 18]\n",
            " [35 35 49 11]]\n",
            "(2, 4)\n"
          ]
        }
      ]
    },
    {
      "cell_type": "code",
      "source": [
        "b = a.reshape(4,2)     #while reshaping size must be same\n",
        "print(b)\n",
        "print(b.shape)"
      ],
      "metadata": {
        "colab": {
          "base_uri": "https://localhost:8080/"
        },
        "id": "QZY2nK15dZMg",
        "outputId": "6a8c79f8-b52c-41ad-8577-49aac84ca3fe"
      },
      "execution_count": null,
      "outputs": [
        {
          "output_type": "stream",
          "name": "stdout",
          "text": [
            "[[ 4 42]\n",
            " [12 18]\n",
            " [35 35]\n",
            " [49 11]]\n",
            "(4, 2)\n"
          ]
        }
      ]
    },
    {
      "cell_type": "code",
      "source": [],
      "metadata": {
        "id": "z-H_781Ddsc4"
      },
      "execution_count": null,
      "outputs": []
    }
  ]
}