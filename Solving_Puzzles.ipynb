{
  "nbformat": 4,
  "nbformat_minor": 0,
  "metadata": {
    "colab": {
      "provenance": [],
      "authorship_tag": "ABX9TyMliPxWU/b0Q8c4Hael2SSb",
      "include_colab_link": true
    },
    "kernelspec": {
      "name": "python3",
      "display_name": "Python 3"
    },
    "language_info": {
      "name": "python"
    }
  },
  "cells": [
    {
      "cell_type": "markdown",
      "metadata": {
        "id": "view-in-github",
        "colab_type": "text"
      },
      "source": [
        "<a href=\"https://colab.research.google.com/github/Saurabh5240/Python-Libraries/blob/main/Solving_Puzzles.ipynb\" target=\"_parent\"><img src=\"https://colab.research.google.com/assets/colab-badge.svg\" alt=\"Open In Colab\"/></a>"
      ]
    },
    {
      "cell_type": "code",
      "source": [
        "#Round Table Kill game\n",
        "#100 persons are sitting and starts with 1 and have to kill next and have to pass sword to nexxt next eg 1 kills 2 and passes to 3 and 3 kills 4 and passes to 5 and so on\n",
        "#This game goes on and on until only one is left , we have to find which one is left\n",
        "def kill(x):\n",
        "  i=0\n",
        "  while(len(x)!=1):\n",
        "    if(i+2 > len(x)):\n",
        "      i = i - len(x)\n",
        "\n",
        "    del x[i+1]\n",
        "    i+=1\n",
        "\n",
        "\n",
        "t = [i for i in range(1,101)]\n",
        "\n",
        "kill(t)\n",
        "print(t)\n",
        "\n",
        "\n"
      ],
      "metadata": {
        "colab": {
          "base_uri": "https://localhost:8080/"
        },
        "id": "UcUvarb6xEN4",
        "outputId": "8489e1cc-5779-4f70-9f40-d39693226ef1"
      },
      "execution_count": 38,
      "outputs": [
        {
          "output_type": "stream",
          "name": "stdout",
          "text": [
            "[3617]\n"
          ]
        }
      ]
    },
    {
      "cell_type": "code",
      "source": [],
      "metadata": {
        "id": "8kBbyFUHxLUa"
      },
      "execution_count": null,
      "outputs": []
    }
  ]
}